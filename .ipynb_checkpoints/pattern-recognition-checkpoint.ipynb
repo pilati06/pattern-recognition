{
 "cells": [
  {
   "cell_type": "markdown",
   "metadata": {},
   "source": [
    "* Aplicar KNN\n",
    "* fazer o resto das coisas\n",
    "\n",
    "Objetivo: Prever se o movimento foi bem feito ou não com nota 1 ou 0\n",
    "\n",
    "Primeiro:\n",
    "\n",
    "-analisar braços para trás e pernas flexionadas\n",
    "\n",
    "Braços para trás\n",
    "\n",
    "* Ponto de referência no meio do corpo. Se o braço estiver atrás do Shoulder, então os braços estão corretos.\n",
    "\n",
    "Pernas flexionadas\n",
    "\n",
    "* Se estiverem com uma distância não mais do que um desvio padrão uma da outra.\n",
    "* Somar distância entre Hip-Knee-Ankle, se essa distância for bem maior que a distância entre Hip-Ankle, então as pernas estão flexionadas.\n",
    "* O Problema é definir de quanto deve ser essa distância."
   ]
  },
  {
   "cell_type": "markdown",
   "metadata": {},
   "source": [
    "![title](skeleton.png)"
   ]
  },
  {
   "cell_type": "markdown",
   "metadata": {},
   "source": [
    "# 1 - Análise estatística do dataset\n",
    "\n",
    "# 1.1 - Braços atrás do corpo\n",
    "\n",
    "Se der positivo, os braços estão para trás do ombro, ou seja, está correto!\n",
    "\n",
    "Foi feito uma média da distância entre os dois pulsos e os dois ombros. A fórmula utiliza foi a seguinte:\n",
    "\n",
    "M = ((rSx - rWx) + (lSx - lWx))/2\n",
    "\n",
    "onde:\n",
    "\n",
    "* M - Média\n",
    "* rSx - Posição x do ombro direito\n",
    "* lSx - Posição x do ombro esquerdo\n",
    "* rWx - Posição x do pulso direito\n",
    "* lWx - Posição x do pulso esquerdo"
   ]
  },
  {
   "cell_type": "code",
   "execution_count": 201,
   "metadata": {},
   "outputs": [
    {
     "data": {
      "text/html": [
       "<div>\n",
       "<style scoped>\n",
       "    .dataframe tbody tr th:only-of-type {\n",
       "        vertical-align: middle;\n",
       "    }\n",
       "\n",
       "    .dataframe tbody tr th {\n",
       "        vertical-align: top;\n",
       "    }\n",
       "\n",
       "    .dataframe thead th {\n",
       "        text-align: right;\n",
       "    }\n",
       "</style>\n",
       "<table border=\"1\" class=\"dataframe\">\n",
       "  <thead>\n",
       "    <tr style=\"text-align: right;\">\n",
       "      <th></th>\n",
       "      <th>distanceShoulderWrist</th>\n",
       "      <th>distanceAnkles</th>\n",
       "      <th>diffStandingFlex</th>\n",
       "      <th>target</th>\n",
       "    </tr>\n",
       "  </thead>\n",
       "  <tbody>\n",
       "    <tr>\n",
       "      <th>0</th>\n",
       "      <td>93.069346</td>\n",
       "      <td>122.914306</td>\n",
       "      <td>22.833106</td>\n",
       "      <td>0</td>\n",
       "    </tr>\n",
       "    <tr>\n",
       "      <th>1</th>\n",
       "      <td>-84.710466</td>\n",
       "      <td>254.905292</td>\n",
       "      <td>326.712315</td>\n",
       "      <td>0</td>\n",
       "    </tr>\n",
       "    <tr>\n",
       "      <th>2</th>\n",
       "      <td>-9.606140</td>\n",
       "      <td>7.525293</td>\n",
       "      <td>31.176183</td>\n",
       "      <td>0</td>\n",
       "    </tr>\n",
       "    <tr>\n",
       "      <th>3</th>\n",
       "      <td>-34.712670</td>\n",
       "      <td>0.937043</td>\n",
       "      <td>28.075990</td>\n",
       "      <td>0</td>\n",
       "    </tr>\n",
       "    <tr>\n",
       "      <th>4</th>\n",
       "      <td>-40.306781</td>\n",
       "      <td>4.975772</td>\n",
       "      <td>24.573911</td>\n",
       "      <td>0</td>\n",
       "    </tr>\n",
       "    <tr>\n",
       "      <th>...</th>\n",
       "      <td>...</td>\n",
       "      <td>...</td>\n",
       "      <td>...</td>\n",
       "      <td>...</td>\n",
       "    </tr>\n",
       "    <tr>\n",
       "      <th>64</th>\n",
       "      <td>102.589885</td>\n",
       "      <td>1.103247</td>\n",
       "      <td>23.372884</td>\n",
       "      <td>1</td>\n",
       "    </tr>\n",
       "    <tr>\n",
       "      <th>65</th>\n",
       "      <td>96.690200</td>\n",
       "      <td>6.845292</td>\n",
       "      <td>42.555435</td>\n",
       "      <td>1</td>\n",
       "    </tr>\n",
       "    <tr>\n",
       "      <th>66</th>\n",
       "      <td>105.352641</td>\n",
       "      <td>22.090998</td>\n",
       "      <td>48.189253</td>\n",
       "      <td>1</td>\n",
       "    </tr>\n",
       "    <tr>\n",
       "      <th>67</th>\n",
       "      <td>33.022083</td>\n",
       "      <td>0.067529</td>\n",
       "      <td>50.525105</td>\n",
       "      <td>1</td>\n",
       "    </tr>\n",
       "    <tr>\n",
       "      <th>68</th>\n",
       "      <td>82.983322</td>\n",
       "      <td>8.923791</td>\n",
       "      <td>37.354303</td>\n",
       "      <td>1</td>\n",
       "    </tr>\n",
       "  </tbody>\n",
       "</table>\n",
       "<p>69 rows × 4 columns</p>\n",
       "</div>"
      ],
      "text/plain": [
       "    distanceShoulderWrist  distanceAnkles  diffStandingFlex  target\n",
       "0               93.069346      122.914306         22.833106       0\n",
       "1              -84.710466      254.905292        326.712315       0\n",
       "2               -9.606140        7.525293         31.176183       0\n",
       "3              -34.712670        0.937043         28.075990       0\n",
       "4              -40.306781        4.975772         24.573911       0\n",
       "..                    ...             ...               ...     ...\n",
       "64             102.589885        1.103247         23.372884       1\n",
       "65              96.690200        6.845292         42.555435       1\n",
       "66             105.352641       22.090998         48.189253       1\n",
       "67              33.022083        0.067529         50.525105       1\n",
       "68              82.983322        8.923791         37.354303       1\n",
       "\n",
       "[69 rows x 4 columns]"
      ]
     },
     "execution_count": 201,
     "metadata": {},
     "output_type": "execute_result"
    }
   ],
   "source": [
    "import pandas as pd\n",
    "import csv\n",
    "\n",
    "#df = pd.read_csv('dataset_panda.csv', names=[\"leftShoulderX\",\"leftShoulderY\",\"rightShoulderX\",\"rightShoulderY\",\"leftElbowX\",\"leftElbowY\",\"rightElbowX\",\"rightElbowY\",\"leftWristX\",\"leftWristY\",\"rightWristX\",\"rightWristY\",\"leftHipX\",\"leftHipY\",\"rightHipX\",\"rightHipY\",\"leftKneeX\",\"leftKneeY\",\"rightKneeX\",\"rightKneeY\",\"leftAnkleX\",\"leftAnkleY\",\"rightAnkleX\",\"rightAnkleY\",\"target\"])\n",
    "df = pd.read_csv('ds_panda.csv', names=['distanceShoulderWrist','distanceAnkles','diffStandingFlex','target'])\n",
    "df"
   ]
  },
  {
   "cell_type": "markdown",
   "metadata": {},
   "source": [
    "# Separação Teste/Treino"
   ]
  },
  {
   "cell_type": "code",
   "execution_count": 202,
   "metadata": {},
   "outputs": [],
   "source": [
    "from sklearn.model_selection import train_test_split\n",
    "from sklearn.preprocessing import StandardScaler\n",
    "\n",
    "#features = [\"leftShoulderX\",\"leftShoulderY\",\"rightShoulderX\",\"rightShoulderY\",\"leftElbowX\",\"leftElbowY\",\"rightElbowX\",\"rightElbowY\",\"leftWristX\",\"leftWristY\",\"rightWristX\",\"rightWristY\",\"leftHipX\",\"leftHipY\",\"rightHipX\",\"rightHipY\",\"leftKneeX\",\"leftKneeY\",\"rightKneeX\",\"rightKneeY\",\"leftAnkleX\",\"leftAnkleY\",\"rightAnkleX\",\"rightAnkleY\"]\n",
    "features = ['distanceShoulderWrist','distanceAnkles','diffStandingFlex']\n",
    "# Separating out the features\n",
    "x = df.loc[:, features].values\n",
    "# Separating out the target\n",
    "y = df.loc[:,['target']].values\n",
    "# Standardizing the features\n",
    "\n",
    "X_train, X_test, y_train, y_test = train_test_split(x, y, test_size=0.1, random_state=42)\n",
    "#print(pd.DataFrame(y_train,columns=['target']))\n"
   ]
  },
  {
   "cell_type": "code",
   "execution_count": 203,
   "metadata": {},
   "outputs": [
    {
     "name": "stdout",
     "output_type": "stream",
     "text": [
      "93.0693456\n",
      "-84.71046635000002\n",
      "-9.606140399999987\n",
      "-34.712670149999994\n",
      "-40.306780950000004\n",
      "-27.063300800000007\n",
      "11.547492949999992\n",
      "-60.69189730000002\n",
      "127.43431409000002\n",
      "120.13501334999998\n",
      "144.318461415\n",
      "63.745902349999994\n",
      "91.34383985\n",
      "15.3428112\n",
      "31.605329369999993\n",
      "108.558010825\n",
      "89.11198715\n",
      "47.78876484999999\n",
      "85.36766895\n",
      "123.49543142000002\n",
      "64.41544024999999\n",
      "125.77128213499998\n",
      "107.35791824\n",
      "-50.31552795\n",
      "49.47324954999999\n",
      "42.75258210000001\n",
      "150.939744765\n",
      "26.601978250000002\n",
      "112.98916753\n",
      "84.181745535\n",
      "190.6250517\n",
      "69.31785100000002\n",
      "86.372511\n",
      "111.30445959000002\n",
      "87.193398515\n",
      "92.49976459999999\n",
      "21.44621560000001\n",
      "78.00409313\n",
      "79.40969267\n",
      "68.05227785\n",
      "61.65103768\n",
      "107.13561547999998\n",
      "129.28276750499998\n",
      "125.44818431499998\n",
      "117.00861968\n",
      "128.32866963499998\n",
      "111.3343132\n",
      "89.57011845\n",
      "66.97371719999998\n",
      "76.16514889999999\n",
      "24.604681294999992\n",
      "5.731942250000003\n",
      "84.39911864999999\n",
      "58.6721605\n",
      "33.011008855\n",
      "161.81342031499997\n",
      "152.94242815500002\n",
      "115.44310069999999\n",
      "118.242443775\n",
      "115.10632003999999\n",
      "118.94032958999999\n",
      "134.08257041500002\n",
      "143.17471566\n",
      "77.60896884000002\n",
      "102.58988472499999\n",
      "96.69020018499998\n",
      "105.35264068500001\n",
      "33.02208335000002\n",
      "82.98332239999999\n"
     ]
    }
   ],
   "source": [
    "with open('dataset.csv', newline='') as csvfile:\n",
    "    reader = csv.DictReader(csvfile)\n",
    "    for row in reader:\n",
    "        print((float(row['rightShoulderX'])-float(row['rightWristX']) + float(row['leftShoulderX'])-float(row['leftWristX']))/2);"
   ]
  },
  {
   "cell_type": "markdown",
   "metadata": {},
   "source": [
    "# 1.2 - Pernas flexionadas\n",
    "\n",
    "Módulo da distância entre os dois tornozelos, pois os tornozelos devem estar próximos"
   ]
  },
  {
   "cell_type": "code",
   "execution_count": 204,
   "metadata": {},
   "outputs": [
    {
     "name": "stdout",
     "output_type": "stream",
     "text": [
      "122.91430629999999\n",
      "254.90529239999998\n",
      "7.525292800000003\n",
      "0.9370428000000004\n",
      "4.975772490000011\n",
      "2.4561723099999995\n",
      "6.145056100000005\n",
      "12.832235600000018\n",
      "17.223058999999992\n",
      "5.136240700000002\n",
      "4.477161700000011\n",
      "4.670243199999987\n",
      "6.986630600000012\n",
      "0.7437555999999859\n",
      "6.700334869999992\n",
      "5.7345643999999965\n",
      "0.8568401699999981\n",
      "33.01289423\n",
      "1.4806302699999918\n",
      "17.594438799999978\n",
      "5.510456699999992\n",
      "2.6648270000000025\n",
      "2.529529199999999\n",
      "4.083241599999994\n",
      "1.9279367999999977\n",
      "3.9075739999999826\n",
      "3.9350495000000194\n",
      "6.74308400000001\n",
      "2.887205409999993\n",
      "0.03885565000000213\n",
      "1.9275220000000104\n",
      "15.6739149\n",
      "4.560356600000006\n",
      "6.862698199999997\n",
      "5.127039780000004\n",
      "11.739541299999985\n",
      "3.7762083100000012\n",
      "4.618836160000001\n",
      "0.7973566300000101\n",
      "8.3388044\n",
      "69.01462490000002\n",
      "2.5068905000000115\n",
      "58.7136294\n",
      "90.8057857\n",
      "0.28685129999999504\n",
      "0.8766186999999945\n",
      "27.568186799999992\n",
      "47.8981869\n",
      "2.7205873999999994\n",
      "5.934159999999991\n",
      "5.042403400000012\n",
      "4.066001400000005\n",
      "0.7229254999999739\n",
      "3.3297606\n",
      "2.736325629999996\n",
      "5.314417050000003\n",
      "15.397944800000005\n",
      "2.8898585000000026\n",
      "0.9543681999999905\n",
      "2.890712100000002\n",
      "3.5126691000000108\n",
      "9.508843900000002\n",
      "4.78545299999999\n",
      "0.28969707000000255\n",
      "1.103246999999996\n",
      "6.845291700000004\n",
      "22.090998\n",
      "0.06752919999999563\n",
      "8.923791499999993\n",
      "Média:  14.808054517826086\n",
      "2 vezes o desvio padrão é: 72.1603370878519 \n"
     ]
    },
    {
     "data": {
      "image/png": "[encoded data removed]",
      "text/plain": [
       "<Figure size 432x288 with 1 Axes>"
      ]
     },
     "metadata": {
      "needs_background": "light"
     },
     "output_type": "display_data"
    }
   ],
   "source": [
    "import math\n",
    "import matplotlib.pyplot as plt\n",
    "import statistics\n",
    "\n",
    "data = []\n",
    "\n",
    "#Plotando o histograma da distância entre os tornozelos\n",
    "with open('dataset.csv', newline='') as csvfile:\n",
    "    reader = csv.DictReader(csvfile)\n",
    "    for row in reader:\n",
    "        aux = math.sqrt(math.pow((float(row['rightAnkleX'])-float(row['leftAnkleX'])),2))        \n",
    "        data.append(aux)\n",
    "        print(aux)\n",
    "\n",
    "\n",
    "#Fazendo o calculo do desvio padrão\n",
    "print(\"Média: \",statistics.mean(data))\n",
    "print(\"2 vezes o desvio padrão é: % s \" \n",
    "                % (statistics.stdev(data)*2)) \n",
    "\n",
    "plt.hist(data, bins=7)\n",
    "plt.show()\n",
    "\n",
    "\n",
    "#print(data)"
   ]
  },
  {
   "cell_type": "markdown",
   "metadata": {},
   "source": [
    "Devem estar flexionados"
   ]
  },
  {
   "cell_type": "code",
   "execution_count": 205,
   "metadata": {},
   "outputs": [
    {
     "name": "stdout",
     "output_type": "stream",
     "text": [
      "22.8331058750843\n",
      "326.7123153019226\n",
      "31.176183457709442\n",
      "28.075989882326922\n",
      "24.573910721465325\n",
      "14.075138783064759\n",
      "31.150522388021813\n",
      "42.845557605019195\n",
      "19.455157988558625\n",
      "13.097408092766585\n",
      "41.82728170406173\n",
      "47.806374319523684\n",
      "9.49786316031009\n",
      "35.8392155573473\n",
      "21.53994248543019\n",
      "27.572341716829172\n",
      "11.597114506709218\n",
      "70.04452985077769\n",
      "46.775434562339\n",
      "53.70044838225709\n",
      "36.73389411803328\n",
      "21.81964728768645\n",
      "49.30031000722575\n",
      "14.749899090455756\n",
      "29.76491838837876\n",
      "29.804018538124012\n",
      "17.367393087368555\n",
      "26.197083439172076\n",
      "37.53081829147109\n",
      "61.844198004842525\n",
      "94.1181990298029\n",
      "38.467105627013126\n",
      "35.5391901110857\n",
      "12.436031653615657\n",
      "28.5516266769188\n",
      "17.37334884759838\n",
      "48.212827092202645\n",
      "36.1570759315083\n",
      "10.293243583079175\n",
      "15.66511845338232\n",
      "6.321602234964729\n",
      "13.817021397714427\n",
      "24.279829265540826\n",
      "31.57606827846618\n",
      "26.30817617519375\n",
      "20.23904385230375\n",
      "61.88161365085105\n",
      "54.52942702257798\n",
      "35.55031684576741\n",
      "44.17587163576522\n",
      "35.054664514594904\n",
      "25.75204950524146\n",
      "26.26809318709813\n",
      "27.83773543875475\n",
      "10.211320518864113\n",
      "28.338418900174304\n",
      "33.252727654348064\n",
      "16.22544331403813\n",
      "14.25702286877538\n",
      "34.44838651782442\n",
      "19.617893031731796\n",
      "19.664782993484977\n",
      "8.637050778462964\n",
      "61.95929763261552\n",
      "23.372884198253217\n",
      "42.55543518751179\n",
      "48.189253270639554\n",
      "50.525105396967376\n",
      "37.354303465530535\n",
      "Média:  35.714820613544155\n",
      "vezes o desvio padrão é: 39.203856978363504 \n"
     ]
    },
    {
     "data": {
      "image/png": "[encoded data removed]",
      "text/plain": [
       "<Figure size 432x288 with 1 Axes>"
      ]
     },
     "metadata": {
      "needs_background": "light"
     },
     "output_type": "display_data"
    },
    {
     "name": "stdout",
     "output_type": "stream",
     "text": [
      "[22.8331058750843, 326.7123153019226, 31.176183457709442, 28.075989882326922, 24.573910721465325, 14.075138783064759, 31.150522388021813, 42.845557605019195, 19.455157988558625, 13.097408092766585, 41.82728170406173, 47.806374319523684, 9.49786316031009, 35.8392155573473, 21.53994248543019, 27.572341716829172, 11.597114506709218, 70.04452985077769, 46.775434562339, 53.70044838225709, 36.73389411803328, 21.81964728768645, 49.30031000722575, 14.749899090455756, 29.76491838837876, 29.804018538124012, 17.367393087368555, 26.197083439172076, 37.53081829147109, 61.844198004842525, 94.1181990298029, 38.467105627013126, 35.5391901110857, 12.436031653615657, 28.5516266769188, 17.37334884759838, 48.212827092202645, 36.1570759315083, 10.293243583079175, 15.66511845338232, 6.321602234964729, 13.817021397714427, 24.279829265540826, 31.57606827846618, 26.30817617519375, 20.23904385230375, 61.88161365085105, 54.52942702257798, 35.55031684576741, 44.17587163576522, 35.054664514594904, 25.75204950524146, 26.26809318709813, 27.83773543875475, 10.211320518864113, 28.338418900174304, 33.252727654348064, 16.22544331403813, 14.25702286877538, 34.44838651782442, 19.617893031731796, 19.664782993484977, 8.637050778462964, 61.95929763261552, 23.372884198253217, 42.55543518751179, 48.189253270639554, 50.525105396967376, 37.354303465530535]\n"
     ]
    }
   ],
   "source": [
    "#Distância cintura/knee/tornozelo deve estar flexionada\n",
    "\n",
    "standingDistance = []\n",
    "R = 0\n",
    "L = 0\n",
    "HAr = 0\n",
    "HAl = 0\n",
    "def calculateDistance(x1,y1,x2,y2):  \n",
    "     dist = math.sqrt((x2 - x1)**2 + (y2 - y1)**2)  \n",
    "     return dist\n",
    "\n",
    "with open('dataset.csv', newline='') as csvfile:\n",
    "    reader = csv.DictReader(csvfile)\n",
    "    for row in reader:\n",
    "        R = calculateDistance(float(row['rightHipX']),float(row['rightHipY']),float(row['rightKneeX']),float(row['rightKneeY'])) + calculateDistance(float(row['rightKneeX']),float(row['rightKneeY']),float(row['rightAnkleX']),float(row['rightAnkleY']))\n",
    "        L = calculateDistance(float(row['leftHipX']),float(row['leftHipY']),float(row['leftKneeX']),float(row['leftKneeY'])) + calculateDistance(float(row['leftKneeX']),float(row['leftKneeY']),float(row['leftAnkleX']),float(row['leftAnkleY']))\n",
    "        HAr = float(row['rightAnkleY'])-float(row['rightHipY'])\n",
    "        HAl = float(row['leftAnkleY'])-float(row['leftHipY'])\n",
    "        \n",
    "        #print(\"R: \",calculateDistance(float(row['rightHipX']),float(row['rightHipY']),float(row['rightKneeX']),float(row['rightKneeY'])) + calculateDistance(float(row['rightKneeX']),float(row['rightKneeY']),float(row['rightAnkleX']),float(row['rightAnkleY'])))\n",
    "        #print(\"L: \",calculateDistance(float(row['leftHipX']),float(row['leftHipY']),float(row['leftKneeX']),float(row['leftKneeY'])) + calculateDistance(float(row['leftKneeX']),float(row['leftKneeY']),float(row['leftAnkleX']),float(row['leftAnkleY'])))\n",
    "        #diferença entre média da distância em pé e média da distancia aferida\n",
    "        diffD = ((R+L)/2)-((HAr+HAl)/2)\n",
    "        print(diffD)\n",
    "        standingDistance.append(diffD)\n",
    "\n",
    "\n",
    "\n",
    "print(\"Média: \",statistics.mean(standingDistance))\n",
    "print(\"vezes o desvio padrão é: % s \" \n",
    "                % (statistics.stdev(standingDistance)))\n",
    "\n",
    "plt.hist(standingDistance, bins=7)\n",
    "plt.show()\n",
    "\n",
    "print(standingDistance)\n"
   ]
  },
  {
   "cell_type": "markdown",
   "metadata": {},
   "source": [
    "# Outliers"
   ]
  },
  {
   "cell_type": "code",
   "execution_count": 217,
   "metadata": {},
   "outputs": [
    {
     "name": "stdout",
     "output_type": "stream",
     "text": [
      "[115.4431007    2.8898585   16.22544331]\n"
     ]
    }
   ],
   "source": [
    "from sklearn.cluster import DBSCAN\n",
    "import numpy as np\n",
    "#seed(1)\n",
    "#random_data = np.random.randn(50000,2)  * 20 + 20\n",
    "\n",
    "outlier_detection = DBSCAN(min_samples = 2, eps = 50)\n",
    "clusters = outlier_detection.fit_predict(X_train)\n",
    "\n",
    "\n",
    "\n",
    "#X_train = X_train.append(1)\n",
    "#y_train = y_train.remove(list(clusters).index(-1))\n",
    "#indexOutlier = list(clusters).index(-1)\n",
    "indTemp = 0\n",
    "for ind in list(clusters):\n",
    "    if ind == -1:\n",
    "        X_train = np.delete(X_train, indTemp, 0)\n",
    "        y_train = np.delete(y_train, indTemp, 0)\n",
    "    indTemp = indTemp+1\n",
    "#print(X_train[indexOutlier])\n",
    "#X_train = np.delete(X_train, indexOutlier, 0)\n",
    "#y_train = np.delete(y_train, indexOutlier, 0)\n",
    "\n",
    "#print(X_train)"
   ]
  },
  {
   "cell_type": "markdown",
   "metadata": {},
   "source": [
    "# SMOTE"
   ]
  },
  {
   "cell_type": "code",
   "execution_count": 207,
   "metadata": {},
   "outputs": [],
   "source": [
    "from imblearn.over_sampling import SMOTE\n",
    "\n",
    "sm = SMOTE(random_state=12,k_neighbors=2)\n",
    "X_train_res, y_train_res = sm.fit_sample(X_train, y_train)\n",
    "\n"
   ]
  },
  {
   "cell_type": "markdown",
   "metadata": {},
   "source": [
    "# KNN"
   ]
  },
  {
   "cell_type": "code",
   "execution_count": 208,
   "metadata": {},
   "outputs": [
    {
     "name": "stdout",
     "output_type": "stream",
     "text": [
      "[1 1 1 0 1 1 1]\n",
      "------------------------------\n",
      "[[1]\n",
      " [0]\n",
      " [1]\n",
      " [0]\n",
      " [1]\n",
      " [1]\n",
      " [1]]\n",
      "Acurácia:  0.8571428571428571\n"
     ]
    }
   ],
   "source": [
    "from sklearn import neighbors, metrics\n",
    "n_neighbors = 10\n",
    "\n",
    "clf = neighbors.KNeighborsClassifier(n_neighbors)\n",
    "clf.fit(X_train_res, y_train_res)\n",
    "\n",
    "results = clf.predict(X_test)\n",
    "\n",
    "print(results)\n",
    "print('------------------------------')\n",
    "print(y_test)\n",
    "\n",
    "print(\"Acurácia: \",metrics.accuracy_score(y_test, results))"
   ]
  },
  {
   "cell_type": "markdown",
   "metadata": {},
   "source": [
    "# PCA - Para Visualização dos Dados"
   ]
  },
  {
   "cell_type": "code",
   "execution_count": 209,
   "metadata": {},
   "outputs": [],
   "source": [
    "x = StandardScaler().fit_transform(x)"
   ]
  },
  {
   "cell_type": "code",
   "execution_count": 210,
   "metadata": {},
   "outputs": [
    {
     "data": {
      "image/png": "[encoded data removed]",
      "text/plain": [
       "<Figure size 576x576 with 1 Axes>"
      ]
     },
     "metadata": {
      "needs_background": "light"
     },
     "output_type": "display_data"
    }
   ],
   "source": [
    "from sklearn.decomposition import PCA\n",
    "pca = PCA(n_components=2)\n",
    "principalComponents = pca.fit_transform(x)\n",
    "principalDf = pd.DataFrame(data = principalComponents\n",
    "             , columns = ['principal component 1', 'principal component 2'])\n",
    "\n",
    "finalDf = pd.concat([principalDf, df[['target']]], axis = 1)\n",
    "\n",
    "fig = plt.figure(figsize = (8,8))\n",
    "ax = fig.add_subplot(1,1,1) \n",
    "ax.set_xlabel('Principal Component 1', fontsize = 15)\n",
    "ax.set_ylabel('Principal Component 2', fontsize = 15)\n",
    "ax.set_title('2 component PCA', fontsize = 20)\n",
    "targets = [0,1]\n",
    "colors = ['r', 'g']\n",
    "for target, color in zip(targets,colors):\n",
    "    indicesToKeep = finalDf['target'] == target\n",
    "    ax.scatter(finalDf.loc[indicesToKeep, 'principal component 1']\n",
    "               , finalDf.loc[indicesToKeep, 'principal component 2']\n",
    "               , c = color\n",
    "               , s = 50)\n",
    "ax.legend(targets)\n",
    "ax.grid()"
   ]
  },
  {
   "cell_type": "markdown",
   "metadata": {},
   "source": [
    "# Visualização treino"
   ]
  },
  {
   "cell_type": "code",
   "execution_count": 211,
   "metadata": {},
   "outputs": [
    {
     "data": {
      "image/png": "[encoded data removed]",
      "text/plain": [
       "<Figure size 576x576 with 1 Axes>"
      ]
     },
     "metadata": {
      "needs_background": "light"
     },
     "output_type": "display_data"
    }
   ],
   "source": [
    "from sklearn.decomposition import PCA\n",
    "trainX = StandardScaler().fit_transform(X_train_res)\n",
    "\n",
    "pca = PCA(n_components=2)\n",
    "principalComponents = pca.fit_transform(trainX)\n",
    "principalDf = pd.DataFrame(data = principalComponents\n",
    "             , columns = ['principal component 1', 'principal component 2'])\n",
    "\n",
    "finalDf = pd.concat([principalDf, pd.DataFrame(y_train_res,columns=['target'])], axis = 1)\n",
    "fig = plt.figure(figsize = (8,8))\n",
    "ax = fig.add_subplot(1,1,1) \n",
    "ax.set_xlabel('Principal Component 1', fontsize = 15)\n",
    "ax.set_ylabel('Principal Component 2', fontsize = 15)\n",
    "ax.set_title('2 component PCA', fontsize = 20)\n",
    "targets = [0,1]\n",
    "colors = ['r', 'g']\n",
    "for target, color in zip(targets,colors):\n",
    "    indicesToKeep = finalDf['target'] == target\n",
    "    ax.scatter(finalDf.loc[indicesToKeep, 'principal component 1']\n",
    "               , finalDf.loc[indicesToKeep, 'principal component 2']\n",
    "               , c = color\n",
    "               , s = 50)\n",
    "ax.legend(targets)\n",
    "ax.grid()"
   ]
  },
  {
   "cell_type": "code",
   "execution_count": null,
   "metadata": {},
   "outputs": [],
   "source": []
  }
 ],
 "metadata": {
  "kernelspec": {
   "display_name": "Python 3",
   "language": "python",
   "name": "python3"
  },
  "language_info": {
   "codemirror_mode": {
    "name": "ipython",
    "version": 3
   },
   "file_extension": ".py",
   "mimetype": "text/x-python",
   "name": "python",
   "nbconvert_exporter": "python",
   "pygments_lexer": "ipython3",
   "version": "3.7.0"
  }
 },
 "nbformat": 4,
 "nbformat_minor": 4
}
